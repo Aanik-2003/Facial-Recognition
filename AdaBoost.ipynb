{
 "cells": [
  {
   "cell_type": "code",
   "execution_count": 1,
   "metadata": {},
   "outputs": [],
   "source": [
    "import numpy as np"
   ]
  },
  {
   "cell_type": "code",
   "execution_count": 2,
   "metadata": {
    "id": "7vWvs-Mg6wzY"
   },
   "outputs": [
    {
     "data": {
      "text/plain": [
       "(1500,)"
      ]
     },
     "execution_count": 2,
     "metadata": {},
     "output_type": "execute_result"
    }
   ],
   "source": [
    "data = np.load(\"C:\\\\Users\\\\user\\\\AI\\\\yaleExtB_data.npy\")\n",
    "data.shape\n",
    "target = np.load(\"C:\\\\Users\\\\user\\\\AI\\\\yaleExtB_target.npy\")\n",
    "target.shape"
   ]
  },
  {
   "cell_type": "markdown",
   "metadata": {
    "id": "jFXhzj-I9aSN"
   },
   "source": [
    "Once data is loaded, lets split into train and test data."
   ]
  },
  {
   "cell_type": "code",
   "execution_count": 9,
   "metadata": {
    "id": "RBhckslj7KXT"
   },
   "outputs": [
    {
     "name": "stdout",
     "output_type": "stream",
     "text": [
      "Training Accuracy: 1.0\n",
      "Validation Accuracy: 0.9533333333333334\n",
      "Testing Accuracy: 0.9433333333333334\n"
     ]
    }
   ],
   "source": [
    "from sklearn.model_selection import train_test_split\n",
    "from sklearn.decomposition import PCA\n",
    "from sklearn.ensemble import AdaBoostClassifier\n",
    "from sklearn.ensemble import RandomForestClassifier\n",
    "from sklearn.tree import DecisionTreeClassifier\n",
    "from sklearn.metrics import accuracy_score\n",
    "\n",
    "# Splitting the data into training and testing sets (80% train, 20% test)\n",
    "X_train, X_test, Y_train, Y_test = train_test_split(data, target, test_size=0.2, random_state=42)\n",
    "\n",
    "# Splitting the training set into further training and validation sets (75% train, 25% validation of the original training set)\n",
    "X_train, X_val, Y_train, Y_val = train_test_split(X_train, Y_train, test_size=0.25, random_state=42)  # This makes 60% of original data as train, 20% as validation\n",
    "\n",
    "# Initialize AdaBoost with a decision tree as the base estimator\n",
    "base_estimator = DecisionTreeClassifier(max_depth=2)\n",
    "ada_boost_model = AdaBoostClassifier(algorithm='SAMME.R',learning_rate=0.09, base_estimator=base_estimator, n_estimators=350,\n",
    "                                     random_state=42)\n",
    "ada_boost_model.fit(X_train, Y_train)\n",
    "\n",
    "# Evaluate the model on the training, validation, and testing sets\n",
    "Y_train_pred = ada_boost_model.predict(X_train)\n",
    "Y_val_pred = ada_boost_model.predict(X_val)\n",
    "Y_test_pred = ada_boost_model.predict(X_test)\n",
    "\n",
    "# Calculate the accuracy of the model\n",
    "train_accuracy = accuracy_score(Y_train, Y_train_pred)\n",
    "val_accuracy = accuracy_score(Y_val, Y_val_pred)\n",
    "test_accuracy = accuracy_score(Y_test, Y_test_pred)\n",
    "\n",
    "print(\"Training Accuracy:\", train_accuracy)\n",
    "print(\"Validation Accuracy:\", val_accuracy)\n",
    "print(\"Testing Accuracy:\", test_accuracy)"
   ]
  },
  {
   "cell_type": "code",
   "execution_count": null,
   "metadata": {},
   "outputs": [],
   "source": []
  }
 ],
 "metadata": {
  "colab": {
   "provenance": []
  },
  "kernelspec": {
   "display_name": "Python 3 (ipykernel)",
   "language": "python",
   "name": "python3"
  },
  "language_info": {
   "codemirror_mode": {
    "name": "ipython",
    "version": 3
   },
   "file_extension": ".py",
   "mimetype": "text/x-python",
   "name": "python",
   "nbconvert_exporter": "python",
   "pygments_lexer": "ipython3",
   "version": "3.10.5"
  }
 },
 "nbformat": 4,
 "nbformat_minor": 1
}
